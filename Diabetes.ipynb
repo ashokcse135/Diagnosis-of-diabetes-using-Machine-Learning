{
 "cells": [
  {
   "cell_type": "code",
   "execution_count": 1,
   "metadata": {},
   "outputs": [],
   "source": [
    "import pandas as pd\n",
    "import numpy as np\n",
    "\n",
    "from tensorflow.keras.layers import Dense\n",
    "from tensorflow.keras.models import Sequential\n",
    "from sklearn.decomposition import PCA\n",
    "import matplotlib.pyplot as plt"
   ]
  },
  {
   "cell_type": "code",
   "execution_count": 2,
   "metadata": {},
   "outputs": [],
   "source": [
    "f=pd.read_csv(\"diabetes.csv\")"
   ]
  },
  {
   "cell_type": "code",
   "execution_count": 3,
   "metadata": {},
   "outputs": [
    {
     "data": {
      "text/html": [
       "<div>\n",
       "<style scoped>\n",
       "    .dataframe tbody tr th:only-of-type {\n",
       "        vertical-align: middle;\n",
       "    }\n",
       "\n",
       "    .dataframe tbody tr th {\n",
       "        vertical-align: top;\n",
       "    }\n",
       "\n",
       "    .dataframe thead th {\n",
       "        text-align: right;\n",
       "    }\n",
       "</style>\n",
       "<table border=\"1\" class=\"dataframe\">\n",
       "  <thead>\n",
       "    <tr style=\"text-align: right;\">\n",
       "      <th></th>\n",
       "      <th>Pregnancies</th>\n",
       "      <th>Glucose</th>\n",
       "      <th>BloodPressure</th>\n",
       "      <th>SkinThickness</th>\n",
       "      <th>Insulin</th>\n",
       "      <th>BMI</th>\n",
       "      <th>DiabetesPedigreeFunction</th>\n",
       "      <th>Age</th>\n",
       "      <th>Outcome</th>\n",
       "    </tr>\n",
       "  </thead>\n",
       "  <tbody>\n",
       "    <tr>\n",
       "      <td>0</td>\n",
       "      <td>6</td>\n",
       "      <td>148</td>\n",
       "      <td>72</td>\n",
       "      <td>35</td>\n",
       "      <td>0</td>\n",
       "      <td>33.6</td>\n",
       "      <td>0.627</td>\n",
       "      <td>50</td>\n",
       "      <td>1</td>\n",
       "    </tr>\n",
       "    <tr>\n",
       "      <td>1</td>\n",
       "      <td>1</td>\n",
       "      <td>85</td>\n",
       "      <td>66</td>\n",
       "      <td>29</td>\n",
       "      <td>0</td>\n",
       "      <td>26.6</td>\n",
       "      <td>0.351</td>\n",
       "      <td>31</td>\n",
       "      <td>0</td>\n",
       "    </tr>\n",
       "    <tr>\n",
       "      <td>2</td>\n",
       "      <td>8</td>\n",
       "      <td>183</td>\n",
       "      <td>64</td>\n",
       "      <td>0</td>\n",
       "      <td>0</td>\n",
       "      <td>23.3</td>\n",
       "      <td>0.672</td>\n",
       "      <td>32</td>\n",
       "      <td>1</td>\n",
       "    </tr>\n",
       "    <tr>\n",
       "      <td>3</td>\n",
       "      <td>1</td>\n",
       "      <td>89</td>\n",
       "      <td>66</td>\n",
       "      <td>23</td>\n",
       "      <td>94</td>\n",
       "      <td>28.1</td>\n",
       "      <td>0.167</td>\n",
       "      <td>21</td>\n",
       "      <td>0</td>\n",
       "    </tr>\n",
       "    <tr>\n",
       "      <td>4</td>\n",
       "      <td>0</td>\n",
       "      <td>137</td>\n",
       "      <td>40</td>\n",
       "      <td>35</td>\n",
       "      <td>168</td>\n",
       "      <td>43.1</td>\n",
       "      <td>2.288</td>\n",
       "      <td>33</td>\n",
       "      <td>1</td>\n",
       "    </tr>\n",
       "    <tr>\n",
       "      <td>...</td>\n",
       "      <td>...</td>\n",
       "      <td>...</td>\n",
       "      <td>...</td>\n",
       "      <td>...</td>\n",
       "      <td>...</td>\n",
       "      <td>...</td>\n",
       "      <td>...</td>\n",
       "      <td>...</td>\n",
       "      <td>...</td>\n",
       "    </tr>\n",
       "    <tr>\n",
       "      <td>763</td>\n",
       "      <td>10</td>\n",
       "      <td>101</td>\n",
       "      <td>76</td>\n",
       "      <td>48</td>\n",
       "      <td>180</td>\n",
       "      <td>32.9</td>\n",
       "      <td>0.171</td>\n",
       "      <td>63</td>\n",
       "      <td>0</td>\n",
       "    </tr>\n",
       "    <tr>\n",
       "      <td>764</td>\n",
       "      <td>2</td>\n",
       "      <td>122</td>\n",
       "      <td>70</td>\n",
       "      <td>27</td>\n",
       "      <td>0</td>\n",
       "      <td>36.8</td>\n",
       "      <td>0.340</td>\n",
       "      <td>27</td>\n",
       "      <td>0</td>\n",
       "    </tr>\n",
       "    <tr>\n",
       "      <td>765</td>\n",
       "      <td>5</td>\n",
       "      <td>121</td>\n",
       "      <td>72</td>\n",
       "      <td>23</td>\n",
       "      <td>112</td>\n",
       "      <td>26.2</td>\n",
       "      <td>0.245</td>\n",
       "      <td>30</td>\n",
       "      <td>0</td>\n",
       "    </tr>\n",
       "    <tr>\n",
       "      <td>766</td>\n",
       "      <td>1</td>\n",
       "      <td>126</td>\n",
       "      <td>60</td>\n",
       "      <td>0</td>\n",
       "      <td>0</td>\n",
       "      <td>30.1</td>\n",
       "      <td>0.349</td>\n",
       "      <td>47</td>\n",
       "      <td>1</td>\n",
       "    </tr>\n",
       "    <tr>\n",
       "      <td>767</td>\n",
       "      <td>1</td>\n",
       "      <td>93</td>\n",
       "      <td>70</td>\n",
       "      <td>31</td>\n",
       "      <td>0</td>\n",
       "      <td>30.4</td>\n",
       "      <td>0.315</td>\n",
       "      <td>23</td>\n",
       "      <td>0</td>\n",
       "    </tr>\n",
       "  </tbody>\n",
       "</table>\n",
       "<p>768 rows × 9 columns</p>\n",
       "</div>"
      ],
      "text/plain": [
       "     Pregnancies  Glucose  BloodPressure  SkinThickness  Insulin   BMI  \\\n",
       "0              6      148             72             35        0  33.6   \n",
       "1              1       85             66             29        0  26.6   \n",
       "2              8      183             64              0        0  23.3   \n",
       "3              1       89             66             23       94  28.1   \n",
       "4              0      137             40             35      168  43.1   \n",
       "..           ...      ...            ...            ...      ...   ...   \n",
       "763           10      101             76             48      180  32.9   \n",
       "764            2      122             70             27        0  36.8   \n",
       "765            5      121             72             23      112  26.2   \n",
       "766            1      126             60              0        0  30.1   \n",
       "767            1       93             70             31        0  30.4   \n",
       "\n",
       "     DiabetesPedigreeFunction  Age  Outcome  \n",
       "0                       0.627   50        1  \n",
       "1                       0.351   31        0  \n",
       "2                       0.672   32        1  \n",
       "3                       0.167   21        0  \n",
       "4                       2.288   33        1  \n",
       "..                        ...  ...      ...  \n",
       "763                     0.171   63        0  \n",
       "764                     0.340   27        0  \n",
       "765                     0.245   30        0  \n",
       "766                     0.349   47        1  \n",
       "767                     0.315   23        0  \n",
       "\n",
       "[768 rows x 9 columns]"
      ]
     },
     "execution_count": 3,
     "metadata": {},
     "output_type": "execute_result"
    }
   ],
   "source": [
    "f"
   ]
  },
  {
   "cell_type": "code",
   "execution_count": 4,
   "metadata": {},
   "outputs": [],
   "source": [
    "data=np.array(f)\n",
    "np.random.shuffle(data)"
   ]
  },
  {
   "cell_type": "code",
   "execution_count": 5,
   "metadata": {},
   "outputs": [
    {
     "data": {
      "text/plain": [
       "0       6\n",
       "1       1\n",
       "2       8\n",
       "3       1\n",
       "4       0\n",
       "       ..\n",
       "763    10\n",
       "764     2\n",
       "765     5\n",
       "766     1\n",
       "767     1\n",
       "Name: Pregnancies, Length: 768, dtype: int64"
      ]
     },
     "execution_count": 5,
     "metadata": {},
     "output_type": "execute_result"
    }
   ],
   "source": [
    "f[\"Pregnancies\"]"
   ]
  },
  {
   "cell_type": "code",
   "execution_count": 6,
   "metadata": {},
   "outputs": [],
   "source": [
    "x_train,y_train=data[:600],data[:600]"
   ]
  },
  {
   "cell_type": "code",
   "execution_count": 7,
   "metadata": {},
   "outputs": [
    {
     "data": {
      "text/plain": [
       "(array([2.00e+00, 9.00e+01, 7.00e+01, 1.70e+01, 0.00e+00, 2.73e+01,\n",
       "        8.50e-02, 2.20e+01, 0.00e+00]),\n",
       " array([  1.   , 109.   ,  60.   ,   8.   , 182.   ,  25.4  ,   0.947,\n",
       "         21.   ,   0.   ]))"
      ]
     },
     "execution_count": 7,
     "metadata": {},
     "output_type": "execute_result"
    }
   ],
   "source": [
    "x_train[0],data[573]"
   ]
  },
  {
   "cell_type": "code",
   "execution_count": 8,
   "metadata": {},
   "outputs": [],
   "source": [
    "x_train,y_train=np.array(list(map(lambda x: x[:-1],x_train))),np.array(list(map(lambda x: x[-1],y_train)))"
   ]
  },
  {
   "cell_type": "code",
   "execution_count": 9,
   "metadata": {},
   "outputs": [
    {
     "data": {
      "text/plain": [
       "array([2.00e+00, 9.00e+01, 7.00e+01, 1.70e+01, 0.00e+00, 2.73e+01,\n",
       "       8.50e-02, 2.20e+01])"
      ]
     },
     "execution_count": 9,
     "metadata": {},
     "output_type": "execute_result"
    }
   ],
   "source": [
    "x_train[0]"
   ]
  },
  {
   "cell_type": "code",
   "execution_count": 10,
   "metadata": {},
   "outputs": [
    {
     "data": {
      "text/plain": [
       "600"
      ]
     },
     "execution_count": 10,
     "metadata": {},
     "output_type": "execute_result"
    }
   ],
   "source": [
    "len(y_train)"
   ]
  },
  {
   "cell_type": "code",
   "execution_count": 11,
   "metadata": {},
   "outputs": [
    {
     "data": {
      "text/plain": [
       "(array([  1.   , 109.   ,  60.   ,   8.   , 182.   ,  25.4  ,   0.947,\n",
       "         21.   ]),\n",
       " array([  1.   , 109.   ,  60.   ,   8.   , 182.   ,  25.4  ,   0.947,\n",
       "         21.   ,   0.   ]))"
      ]
     },
     "execution_count": 11,
     "metadata": {},
     "output_type": "execute_result"
    }
   ],
   "source": [
    "x_train[573],data[573]"
   ]
  },
  {
   "cell_type": "code",
   "execution_count": 12,
   "metadata": {},
   "outputs": [],
   "source": [
    "x_test,y_test=data[600:],data[600:]\n",
    "x_test,y_test=np.array(list(map(lambda x: x[:-1],x_test))),np.array(list(map(lambda x:x[-1],y_test)))"
   ]
  },
  {
   "cell_type": "code",
   "execution_count": 13,
   "metadata": {},
   "outputs": [
    {
     "data": {
      "text/plain": [
       "(array([[1.00e+00, 1.38e+02, 8.20e+01, ..., 4.01e+01, 2.36e-01, 2.80e+01],\n",
       "        [8.00e+00, 1.81e+02, 6.80e+01, ..., 3.01e+01, 6.15e-01, 6.00e+01],\n",
       "        [3.00e+00, 1.48e+02, 6.60e+01, ..., 3.25e+01, 2.56e-01, 2.20e+01],\n",
       "        ...,\n",
       "        [2.00e+00, 1.20e+02, 5.40e+01, ..., 2.68e+01, 4.55e-01, 2.70e+01],\n",
       "        [7.00e+00, 1.79e+02, 9.50e+01, ..., 3.42e+01, 1.64e-01, 6.00e+01],\n",
       "        [0.00e+00, 1.19e+02, 0.00e+00, ..., 3.24e+01, 1.41e-01, 2.40e+01]]),\n",
       " array([0., 1., 0., 0., 0., 0., 0., 1., 0., 0., 0., 0., 0., 1., 0., 0., 0.,\n",
       "        0., 0., 1., 0., 1., 1., 1., 1., 0., 0., 0., 0., 1., 1., 1., 0., 1.,\n",
       "        0., 1., 0., 0., 1., 1., 0., 0., 1., 0., 0., 1., 1., 0., 0., 1., 0.,\n",
       "        1., 0., 1., 0., 1., 0., 1., 1., 0., 0., 0., 0., 0., 0., 0., 0., 0.,\n",
       "        0., 1., 1., 0., 0., 0., 0., 1., 0., 1., 0., 0., 0., 0., 0., 0., 0.,\n",
       "        1., 1., 0., 0., 0., 0., 1., 1., 0., 0., 0., 0., 0., 0., 0., 0., 1.,\n",
       "        0., 0., 0., 1., 1., 0., 0., 0., 0., 0., 0., 0., 0., 0., 0., 0., 1.,\n",
       "        0., 0., 0., 0., 0., 0., 0., 0., 1., 1., 1., 1., 0., 1., 1., 0., 0.,\n",
       "        0., 0., 1., 1., 0., 0., 0., 0., 0., 0., 0., 1., 1., 0., 0., 0., 1.,\n",
       "        1., 1., 0., 1., 1., 0., 0., 0., 0., 0., 0., 1., 0., 0., 1.]))"
      ]
     },
     "execution_count": 13,
     "metadata": {},
     "output_type": "execute_result"
    }
   ],
   "source": [
    "x_test,y_test"
   ]
  },
  {
   "cell_type": "code",
   "execution_count": 14,
   "metadata": {},
   "outputs": [
    {
     "name": "stdout",
     "output_type": "stream",
     "text": [
      "[0.88854663]\n"
     ]
    },
    {
     "data": {
      "text/plain": [
       "[<matplotlib.lines.Line2D at 0x7f8b102209d0>]"
      ]
     },
     "execution_count": 14,
     "metadata": {},
     "output_type": "execute_result"
    },
    {
     "data": {
      "image/png": "[encoded data removed]",
      "text/plain": [
       "<Figure size 432x288 with 1 Axes>"
      ]
     },
     "metadata": {
      "needs_background": "light"
     },
     "output_type": "display_data"
    }
   ],
   "source": [
    "x=np.array(list(map(lambda x: x[:-1],data)))\n",
    "y=np.array(list(map(lambda x: x[-1],data)))\n",
    "\n",
    "pca = PCA(n_components=1)\n",
    "d=pca.fit_transform(x)\n",
    "print(pca.explained_variance_ratio_)\n",
    "plt.plot(d,y)"
   ]
  },
  {
   "cell_type": "code",
   "execution_count": 15,
   "metadata": {},
   "outputs": [],
   "source": [
    "model=Sequential()\n",
    "model.add(Dense(10,activation=\"relu\",input_dim=8))\n",
    "model.add(Dense(12,activation=\"relu\"))\n",
    "model.add(Dense(10,activation=\"relu\"))\n",
    "model.add(Dense(6,activation=\"relu\"))\n",
    "model.add(Dense(3,activation=\"relu\"))\n",
    "model.add(Dense(1,activation=\"sigmoid\"))"
   ]
  },
  {
   "cell_type": "code",
   "execution_count": 16,
   "metadata": {},
   "outputs": [],
   "source": [
    "model.compile(loss=\"binary_crossentropy\",optimizer=\"adam\",metrics=[\"accuracy\"])"
   ]
  },
  {
   "cell_type": "code",
   "execution_count": 17,
   "metadata": {},
   "outputs": [
    {
     "name": "stdout",
     "output_type": "stream",
     "text": [
      "Train on 600 samples\n",
      "Epoch 1/50\n",
      "600/600 [==============================] - 1s 1ms/sample - loss: 8.3440 - accuracy: 0.6417\n",
      "Epoch 2/50\n",
      "600/600 [==============================] - 0s 44us/sample - loss: 3.9621 - accuracy: 0.6417\n",
      "Epoch 3/50\n",
      "600/600 [==============================] - 0s 52us/sample - loss: 2.3687 - accuracy: 0.6417\n",
      "Epoch 4/50\n",
      "600/600 [==============================] - 0s 53us/sample - loss: 1.4845 - accuracy: 0.6417\n",
      "Epoch 5/50\n",
      "600/600 [==============================] - 0s 53us/sample - loss: 0.9998 - accuracy: 0.6417\n",
      "Epoch 6/50\n",
      "600/600 [==============================] - 0s 62us/sample - loss: 0.7826 - accuracy: 0.6417\n",
      "Epoch 7/50\n",
      "600/600 [==============================] - 0s 53us/sample - loss: 0.7044 - accuracy: 0.6083\n",
      "Epoch 8/50\n",
      "600/600 [==============================] - 0s 57us/sample - loss: 0.6668 - accuracy: 0.6067\n",
      "Epoch 9/50\n",
      "600/600 [==============================] - 0s 56us/sample - loss: 0.6538 - accuracy: 0.6150\n",
      "Epoch 10/50\n",
      "600/600 [==============================] - 0s 57us/sample - loss: 0.6423 - accuracy: 0.6033\n",
      "Epoch 11/50\n",
      "600/600 [==============================] - 0s 53us/sample - loss: 0.6397 - accuracy: 0.6133\n",
      "Epoch 12/50\n",
      "600/600 [==============================] - 0s 51us/sample - loss: 0.6355 - accuracy: 0.6167\n",
      "Epoch 13/50\n",
      "600/600 [==============================] - 0s 64us/sample - loss: 0.6320 - accuracy: 0.6217\n",
      "Epoch 14/50\n",
      "600/600 [==============================] - 0s 57us/sample - loss: 0.6356 - accuracy: 0.6250\n",
      "Epoch 15/50\n",
      "600/600 [==============================] - 0s 66us/sample - loss: 0.6282 - accuracy: 0.6050\n",
      "Epoch 16/50\n",
      "600/600 [==============================] - 0s 56us/sample - loss: 0.6288 - accuracy: 0.6100\n",
      "Epoch 17/50\n",
      "600/600 [==============================] - 0s 50us/sample - loss: 0.6235 - accuracy: 0.6300\n",
      "Epoch 18/50\n",
      "600/600 [==============================] - 0s 50us/sample - loss: 0.6207 - accuracy: 0.6267\n",
      "Epoch 19/50\n",
      "600/600 [==============================] - 0s 54us/sample - loss: 0.6351 - accuracy: 0.6383\n",
      "Epoch 20/50\n",
      "600/600 [==============================] - 0s 59us/sample - loss: 0.6314 - accuracy: 0.6283\n",
      "Epoch 21/50\n",
      "600/600 [==============================] - 0s 52us/sample - loss: 0.6238 - accuracy: 0.6367\n",
      "Epoch 22/50\n",
      "600/600 [==============================] - 0s 51us/sample - loss: 0.6260 - accuracy: 0.6350\n",
      "Epoch 23/50\n",
      "600/600 [==============================] - 0s 54us/sample - loss: 0.6166 - accuracy: 0.6267\n",
      "Epoch 24/50\n",
      "600/600 [==============================] - 0s 66us/sample - loss: 0.6171 - accuracy: 0.6517\n",
      "Epoch 25/50\n",
      "600/600 [==============================] - 0s 51us/sample - loss: 0.6156 - accuracy: 0.6433\n",
      "Epoch 26/50\n",
      "600/600 [==============================] - 0s 49us/sample - loss: 0.6191 - accuracy: 0.6383\n",
      "Epoch 27/50\n",
      "600/600 [==============================] - 0s 52us/sample - loss: 0.6166 - accuracy: 0.6400\n",
      "Epoch 28/50\n",
      "600/600 [==============================] - 0s 51us/sample - loss: 0.6140 - accuracy: 0.6617\n",
      "Epoch 29/50\n",
      "600/600 [==============================] - 0s 63us/sample - loss: 0.6182 - accuracy: 0.6567\n",
      "Epoch 30/50\n",
      "600/600 [==============================] - 0s 58us/sample - loss: 0.6102 - accuracy: 0.6617\n",
      "Epoch 31/50\n",
      "600/600 [==============================] - 0s 48us/sample - loss: 0.6128 - accuracy: 0.6683\n",
      "Epoch 32/50\n",
      "600/600 [==============================] - 0s 49us/sample - loss: 0.6089 - accuracy: 0.6633\n",
      "Epoch 33/50\n",
      "600/600 [==============================] - 0s 49us/sample - loss: 0.6125 - accuracy: 0.6600\n",
      "Epoch 34/50\n",
      "600/600 [==============================] - 0s 54us/sample - loss: 0.6086 - accuracy: 0.6600\n",
      "Epoch 35/50\n",
      "600/600 [==============================] - 0s 60us/sample - loss: 0.6152 - accuracy: 0.6633\n",
      "Epoch 36/50\n",
      "600/600 [==============================] - 0s 56us/sample - loss: 0.6027 - accuracy: 0.6733\n",
      "Epoch 37/50\n",
      "600/600 [==============================] - 0s 55us/sample - loss: 0.6066 - accuracy: 0.6900\n",
      "Epoch 38/50\n",
      "600/600 [==============================] - 0s 53us/sample - loss: 0.6119 - accuracy: 0.6733\n",
      "Epoch 39/50\n",
      "600/600 [==============================] - 0s 50us/sample - loss: 0.6023 - accuracy: 0.6800\n",
      "Epoch 40/50\n",
      "600/600 [==============================] - 0s 55us/sample - loss: 0.5953 - accuracy: 0.6817\n",
      "Epoch 41/50\n",
      "600/600 [==============================] - 0s 53us/sample - loss: 0.6015 - accuracy: 0.6817\n",
      "Epoch 42/50\n",
      "600/600 [==============================] - 0s 60us/sample - loss: 0.6070 - accuracy: 0.6850\n",
      "Epoch 43/50\n",
      "600/600 [==============================] - 0s 56us/sample - loss: 0.5974 - accuracy: 0.6833\n",
      "Epoch 44/50\n",
      "600/600 [==============================] - 0s 54us/sample - loss: 0.5926 - accuracy: 0.6833\n",
      "Epoch 45/50\n",
      "600/600 [==============================] - 0s 48us/sample - loss: 0.5929 - accuracy: 0.6833\n",
      "Epoch 46/50\n",
      "600/600 [==============================] - 0s 54us/sample - loss: 0.6021 - accuracy: 0.6900\n",
      "Epoch 47/50\n",
      "600/600 [==============================] - 0s 54us/sample - loss: 0.5930 - accuracy: 0.6950\n",
      "Epoch 48/50\n",
      "600/600 [==============================] - 0s 61us/sample - loss: 0.5991 - accuracy: 0.6817\n",
      "Epoch 49/50\n",
      "600/600 [==============================] - 0s 51us/sample - loss: 0.5960 - accuracy: 0.6933\n",
      "Epoch 50/50\n",
      "600/600 [==============================] - 0s 50us/sample - loss: 0.5915 - accuracy: 0.6983\n"
     ]
    },
    {
     "data": {
      "text/plain": [
       "<tensorflow.python.keras.callbacks.History at 0x7f8b08704a10>"
      ]
     },
     "execution_count": 17,
     "metadata": {},
     "output_type": "execute_result"
    }
   ],
   "source": [
    "model.fit(x_train,y_train,epochs=50)"
   ]
  },
  {
   "cell_type": "code",
   "execution_count": 18,
   "metadata": {},
   "outputs": [
    {
     "name": "stdout",
     "output_type": "stream",
     "text": [
      "168/1 - 0s - loss: 0.6255 - accuracy: 0.6250\n"
     ]
    },
    {
     "data": {
      "text/plain": [
       "[0.6515542722883678, 0.625]"
      ]
     },
     "execution_count": 18,
     "metadata": {},
     "output_type": "execute_result"
    }
   ],
   "source": [
    "model.evaluate(x_test,y_test,verbose=2)"
   ]
  },
  {
   "cell_type": "code",
   "execution_count": null,
   "metadata": {},
   "outputs": [],
   "source": []
  }
 ],
 "metadata": {
  "kernelspec": {
   "display_name": "Python 3",
   "language": "python",
   "name": "python3"
  },
  "language_info": {
   "codemirror_mode": {
    "name": "ipython",
    "version": 3
   },
   "file_extension": ".py",
   "mimetype": "text/x-python",
   "name": "python",
   "nbconvert_exporter": "python",
   "pygments_lexer": "ipython3",
   "version": "3.7.4"
  }
 },
 "nbformat": 4,
 "nbformat_minor": 2
}
